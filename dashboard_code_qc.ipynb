{
 "cells": [
  {
   "cell_type": "code",
   "execution_count": 4,
   "metadata": {},
   "outputs": [],
   "source": [
    "import dash\n",
    "import dash_core_components as dcc\n",
    "import dash_html_components as html\n",
    "from dash.dependencies import Input, Output\n",
    "import plotly.graph_objs as go\n",
    "import matplotlib.pyplot as plt\n",
    "import plotly.express as px\n",
    "import glob\n",
    "import os\n",
    "import cv2\n",
    "import json\n",
    "import pandas as pd\n",
    "from skimage.transform import resize\n",
    "import numpy as np\n",
    "import datetime as dt\n",
    "from flask_caching import Cache\n"
   ]
  },
  {
   "cell_type": "code",
   "execution_count": 5,
   "metadata": {},
   "outputs": [
    {
     "name": "stdout",
     "output_type": "stream",
     "text": [
      "['./static\\\\top_mosaic_09cm_area1.png', './static\\\\top_mosaic_09cm_area10.png', './static\\\\top_mosaic_09cm_area11.png', './static\\\\top_mosaic_09cm_area12.png', './static\\\\top_mosaic_09cm_area13.png', './static\\\\top_mosaic_09cm_area14.png', './static\\\\top_mosaic_09cm_area15.png', './static\\\\top_mosaic_09cm_area16.png', './static\\\\top_mosaic_09cm_area17.png', './static\\\\top_mosaic_09cm_area2.png', './static\\\\top_mosaic_09cm_area20.png', './static\\\\top_mosaic_09cm_area21.png', './static\\\\top_mosaic_09cm_area22.png', './static\\\\top_mosaic_09cm_area23.png', './static\\\\top_mosaic_09cm_area24.png', './static\\\\top_mosaic_09cm_area26.png', './static\\\\top_mosaic_09cm_area27.png', './static\\\\top_mosaic_09cm_area28.png', './static\\\\top_mosaic_09cm_area29.png', './static\\\\top_mosaic_09cm_area3.png', './static\\\\top_mosaic_09cm_area30.png', './static\\\\top_mosaic_09cm_area31.png', './static\\\\top_mosaic_09cm_area32.png', './static\\\\top_mosaic_09cm_area33.png', './static\\\\top_mosaic_09cm_area34.png', './static\\\\top_mosaic_09cm_area35.png', './static\\\\top_mosaic_09cm_area37.png', './static\\\\top_mosaic_09cm_area38.png', './static\\\\top_mosaic_09cm_area4.png', './static\\\\top_mosaic_09cm_area5.png', './static\\\\top_mosaic_09cm_area6.png', './static\\\\top_mosaic_09cm_area7.png', './static\\\\top_mosaic_09cm_area8.png']\n"
     ]
    }
   ],
   "source": [
    "top_list = glob.glob(r'./static/top*')\n",
    "print(top_list)"
   ]
  },
  {
   "cell_type": "code",
   "execution_count": 6,
   "metadata": {},
   "outputs": [],
   "source": [
    "top_list = top_list[:5]"
   ]
  },
  {
   "cell_type": "code",
   "execution_count": 10,
   "metadata": {},
   "outputs": [],
   "source": [
    "image_library = np.zeros((len(top_list),256,256,3))\n",
    "\n",
    "for i in range(len(top_list)):\n",
    "    image = plt.imread(top_list[i])\n",
    "    image = resize(image, (256, 256, 3)) # resize it\n",
    "    image_library[i] = image\n",
    "\n",
    "flattened_library = []\n",
    "for i in range(len(top_list)):\n",
    "    flattened_library.append(image_library[i].flatten())\n",
    "\n",
    "# This could be an expensive data querying step\n",
    "df =  pd.DataFrame(flattened_library).transpose()\n"
   ]
  },
  {
   "cell_type": "code",
   "execution_count": 11,
   "metadata": {},
   "outputs": [
    {
     "name": "stdout",
     "output_type": "stream",
     "text": [
      "(196608, 5)\n"
     ]
    }
   ],
   "source": [
    "print(df.shape)"
   ]
  },
  {
   "cell_type": "code",
   "execution_count": 12,
   "metadata": {},
   "outputs": [
    {
     "name": "stdout",
     "output_type": "stream",
     "text": [
      "0         0.155823\n",
      "1         0.181170\n",
      "2         0.184444\n",
      "3         0.152343\n",
      "4         0.176288\n",
      "            ...   \n",
      "196603    0.222668\n",
      "196604    0.226004\n",
      "196605    0.239206\n",
      "196606    0.243193\n",
      "196607    0.244200\n",
      "Name: 0, Length: 196608, dtype: float64\n"
     ]
    }
   ],
   "source": [
    "print(df[0])"
   ]
  },
  {
   "cell_type": "code",
   "execution_count": null,
   "metadata": {},
   "outputs": [],
   "source": []
  }
 ],
 "metadata": {
  "kernelspec": {
   "display_name": "Python 3",
   "language": "python",
   "name": "python3"
  },
  "language_info": {
   "codemirror_mode": {
    "name": "ipython",
    "version": 3
   },
   "file_extension": ".py",
   "mimetype": "text/x-python",
   "name": "python",
   "nbconvert_exporter": "python",
   "pygments_lexer": "ipython3",
   "version": "3.8.3"
  }
 },
 "nbformat": 4,
 "nbformat_minor": 4
}
